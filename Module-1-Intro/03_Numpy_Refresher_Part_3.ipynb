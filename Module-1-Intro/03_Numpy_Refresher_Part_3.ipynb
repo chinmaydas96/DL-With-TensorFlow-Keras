{
 "cells": [
  {
   "cell_type": "markdown",
   "metadata": {
    "id": "ou2mMA50HvHE"
   },
   "source": [
    "<h1 style=\"font-size:30px;\">Numpy Refresher (Part-3)</h1>\n",
    "\n",
    "- Element Wise Operations\n",
    "- Linear Algebra\n",
    "- Array Statistics\n",
    "\n",
    "\n",
    "<img src='https://learnopencv.com/wp-content/uploads/2022/01/c4_01_NumPy_logo.png' width=200 align='left'><br/>"
   ]
  },
  {
   "cell_type": "code",
   "execution_count": 1,
   "metadata": {
    "ExecuteTime": {
     "end_time": "2022-07-17T15:49:03.005204Z",
     "start_time": "2022-07-17T15:49:01.560288Z"
    },
    "id": "iei7FIbn35Sq"
   },
   "outputs": [],
   "source": [
    "import numpy as np\n",
    "\n",
    "def array_info(array):\n",
    "    print('Array:\\n{}'.format(array))\n",
    "    print('Data type:\\t{}'.format(array.dtype))\n",
    "    print('Array shape:\\t{}'.format(array.shape))\n",
    "    print('Array Dim:\\t{}\\n'.format(array.ndim))"
   ]
  },
  {
   "cell_type": "markdown",
   "metadata": {
    "id": "ib6ndOLfHvHp"
   },
   "source": [
    "## 1 Element-Wise Operations\n"
   ]
  },
  {
   "cell_type": "markdown",
   "metadata": {
    "id": "bEUU5DXSHvHp"
   },
   "source": [
    "Let's generate two random arrays to demonstrate element-wise operations. "
   ]
  },
  {
   "cell_type": "code",
   "execution_count": 2,
   "metadata": {
    "ExecuteTime": {
     "end_time": "2022-07-17T15:49:08.439908Z",
     "start_time": "2022-07-17T15:49:08.431633Z"
    },
    "id": "Z_4_wwpkHvHq",
    "outputId": "5a6233d2-2689-48e4-c4b8-4d9ad880104f"
   },
   "outputs": [
    {
     "name": "stdout",
     "output_type": "stream",
     "text": [
      "Array:\n",
      "[[0.09629177 0.55450109 0.64392185 0.02829702]\n",
      " [0.48779066 0.23031475 0.3603628  0.23025478]\n",
      " [0.2945682  0.38882777 0.64578038 0.88811079]\n",
      " [0.56477474 0.36669258 0.68991165 0.62268748]]\n",
      "Data type:\tfloat64\n",
      "Array shape:\t(4, 4)\n",
      "Array Dim:\t2\n",
      "\n",
      "Array:\n",
      "[[0.34909146 0.21049299 0.19914221 0.72521734]\n",
      " [0.14459346 0.7118491  0.58959442 0.74651466]\n",
      " [0.76618767 0.48089286 0.63497047 0.09638991]\n",
      " [0.67960954 0.4928738  0.49374518 0.24422084]]\n",
      "Data type:\tfloat64\n",
      "Array shape:\t(4, 4)\n",
      "Array Dim:\t2\n",
      "\n"
     ]
    }
   ],
   "source": [
    "a = np.random.random((4,4))\n",
    "b = np.random.random((4,4))\n",
    "array_info(a)\n",
    "array_info(b)"
   ]
  },
  {
   "cell_type": "markdown",
   "metadata": {
    "id": "TR3faxSTHvHq"
   },
   "source": [
    "### 1.1 Element-Wise Scalar Operations"
   ]
  },
  {
   "cell_type": "markdown",
   "metadata": {
    "id": "HCaBZ88vHvHq"
   },
   "source": [
    "### <font style=\"color:rgb(50,120,230)\">Scalar Addition</font>"
   ]
  },
  {
   "cell_type": "code",
   "execution_count": 3,
   "metadata": {
    "ExecuteTime": {
     "end_time": "2022-07-17T15:49:13.296635Z",
     "start_time": "2022-07-17T15:49:13.280931Z"
    },
    "id": "PkG8aNxzHvHq",
    "outputId": "3c8ca936-eac8-4adb-9ffa-d1a8e6222262"
   },
   "outputs": [
    {
     "data": {
      "text/plain": [
       "array([[5.09629177, 5.55450109, 5.64392185, 5.02829702],\n",
       "       [5.48779066, 5.23031475, 5.3603628 , 5.23025478],\n",
       "       [5.2945682 , 5.38882777, 5.64578038, 5.88811079],\n",
       "       [5.56477474, 5.36669258, 5.68991165, 5.62268748]])"
      ]
     },
     "execution_count": 3,
     "metadata": {},
     "output_type": "execute_result"
    }
   ],
   "source": [
    "a + 5 # Element wise scalar addition."
   ]
  },
  {
   "cell_type": "markdown",
   "metadata": {
    "id": "YZi1QRPhHvHr"
   },
   "source": [
    "### <font style=\"color:rgb(50,120,230)\">Scalar Subtraction</font>"
   ]
  },
  {
   "cell_type": "code",
   "execution_count": 4,
   "metadata": {
    "ExecuteTime": {
     "end_time": "2022-07-17T15:49:14.192019Z",
     "start_time": "2022-07-17T15:49:14.183498Z"
    },
    "id": "yu61UKprHvHr",
    "outputId": "78fd8c5a-8e4e-43a1-8b02-d3affc4a7cf6"
   },
   "outputs": [
    {
     "data": {
      "text/plain": [
       "array([[-4.90370823, -4.44549891, -4.35607815, -4.97170298],\n",
       "       [-4.51220934, -4.76968525, -4.6396372 , -4.76974522],\n",
       "       [-4.7054318 , -4.61117223, -4.35421962, -4.11188921],\n",
       "       [-4.43522526, -4.63330742, -4.31008835, -4.37731252]])"
      ]
     },
     "execution_count": 4,
     "metadata": {},
     "output_type": "execute_result"
    }
   ],
   "source": [
    "a - 5 # Element wise scalar subtraction."
   ]
  },
  {
   "cell_type": "markdown",
   "metadata": {
    "id": "nq5YTQouHvHr"
   },
   "source": [
    "### <font style=\"color:rgb(50,120,230)\">Scalar Multiplication</font>"
   ]
  },
  {
   "cell_type": "code",
   "execution_count": 5,
   "metadata": {
    "ExecuteTime": {
     "end_time": "2022-07-17T15:49:14.693567Z",
     "start_time": "2022-07-17T15:49:14.687079Z"
    },
    "id": "B5BkSNZuHvHv",
    "outputId": "b5fba9e3-fd5a-4742-8aad-68e8eb6291ff"
   },
   "outputs": [
    {
     "data": {
      "text/plain": [
       "array([[0.96291771, 5.54501091, 6.43921849, 0.28297019],\n",
       "       [4.87790659, 2.30314748, 3.60362797, 2.30254776],\n",
       "       [2.94568201, 3.88827774, 6.45780384, 8.88110791],\n",
       "       [5.6477474 , 3.66692582, 6.89911654, 6.2268748 ]])"
      ]
     },
     "execution_count": 5,
     "metadata": {},
     "output_type": "execute_result"
    }
   ],
   "source": [
    "a * 10 # Element wise scalar multiplication."
   ]
  },
  {
   "cell_type": "markdown",
   "metadata": {
    "id": "1npInH3gHvHv"
   },
   "source": [
    "### <font style=\"color:rgb(50,120,230)\">Scalar Division</font>"
   ]
  },
  {
   "cell_type": "code",
   "execution_count": 6,
   "metadata": {
    "ExecuteTime": {
     "end_time": "2022-07-17T15:49:16.629487Z",
     "start_time": "2022-07-17T15:49:16.622738Z"
    },
    "id": "mkoXE_-nHvHv",
    "outputId": "4086107b-d56e-40e0-9e18-a1e06441ade0"
   },
   "outputs": [
    {
     "data": {
      "text/plain": [
       "array([[0.00962918, 0.05545011, 0.06439218, 0.0028297 ],\n",
       "       [0.04877907, 0.02303147, 0.03603628, 0.02302548],\n",
       "       [0.02945682, 0.03888278, 0.06457804, 0.08881108],\n",
       "       [0.05647747, 0.03666926, 0.06899117, 0.06226875]])"
      ]
     },
     "execution_count": 6,
     "metadata": {},
     "output_type": "execute_result"
    }
   ],
   "source": [
    "a/10 # Element wise scalar division."
   ]
  },
  {
   "cell_type": "markdown",
   "metadata": {
    "id": "jHJRr1MNHvHv"
   },
   "source": [
    "### 1.2 Element-Wise Array Operations"
   ]
  },
  {
   "cell_type": "markdown",
   "metadata": {
    "id": "Bofpk58CHvHw"
   },
   "source": [
    "### <font style=\"color:rgb(50,120,230)\">Array Addition</font>"
   ]
  },
  {
   "cell_type": "code",
   "execution_count": 7,
   "metadata": {
    "ExecuteTime": {
     "end_time": "2022-07-17T15:49:18.366284Z",
     "start_time": "2022-07-17T15:49:18.359012Z"
    },
    "id": "XKa_rsCEHvHw",
    "outputId": "1dcefbae-e42d-4a0a-84fc-656a49bab68f"
   },
   "outputs": [
    {
     "data": {
      "text/plain": [
       "array([[0.44538323, 0.76499408, 0.84306406, 0.75351436],\n",
       "       [0.63238412, 0.94216384, 0.94995722, 0.97676943],\n",
       "       [1.06075587, 0.86972064, 1.28075086, 0.9845007 ],\n",
       "       [1.24438428, 0.85956638, 1.18365683, 0.86690833]])"
      ]
     },
     "execution_count": 7,
     "metadata": {},
     "output_type": "execute_result"
    }
   ],
   "source": [
    "a + b # Element wise array/vector addition."
   ]
  },
  {
   "cell_type": "markdown",
   "metadata": {
    "id": "ESSSSF91HvHy"
   },
   "source": [
    "### <font style=\"color:rgb(50,120,230)\">Array Subtraction</font>"
   ]
  },
  {
   "cell_type": "code",
   "execution_count": 8,
   "metadata": {
    "ExecuteTime": {
     "end_time": "2022-07-17T15:49:20.063150Z",
     "start_time": "2022-07-17T15:49:20.056212Z"
    },
    "id": "z1Nh0f-VHvHy",
    "outputId": "28383834-c467-489b-8af4-c42ca114c881"
   },
   "outputs": [
    {
     "data": {
      "text/plain": [
       "array([[-0.25279969,  0.3440081 ,  0.44477964, -0.69692032],\n",
       "       [ 0.3431972 , -0.48153435, -0.22923163, -0.51625988],\n",
       "       [-0.47161947, -0.09206509,  0.01080991,  0.79172088],\n",
       "       [-0.1148348 , -0.12618122,  0.19616648,  0.37846664]])"
      ]
     },
     "execution_count": 8,
     "metadata": {},
     "output_type": "execute_result"
    }
   ],
   "source": [
    "a - b # Element wise array/vector subtraction."
   ]
  },
  {
   "cell_type": "markdown",
   "metadata": {
    "id": "fP6X8L1ZHvHy"
   },
   "source": [
    "### <font style=\"color:rgb(50,120,230)\">Array Multiplication</font>"
   ]
  },
  {
   "cell_type": "code",
   "execution_count": 9,
   "metadata": {
    "ExecuteTime": {
     "end_time": "2022-07-17T15:49:21.231773Z",
     "start_time": "2022-07-17T15:49:21.223323Z"
    },
    "id": "9ZvWU6fjHvHy",
    "outputId": "4325f640-c66b-4d2d-83f2-a19113f08d2b"
   },
   "outputs": [
    {
     "data": {
      "text/plain": [
       "array([[0.03361464, 0.11671859, 0.12823202, 0.02052149],\n",
       "       [0.07053134, 0.16394934, 0.2124679 , 0.17188857],\n",
       "       [0.22569452, 0.1869845 , 0.41005148, 0.08560492],\n",
       "       [0.3838263 , 0.18073317, 0.34064055, 0.15207326]])"
      ]
     },
     "execution_count": 9,
     "metadata": {},
     "output_type": "execute_result"
    }
   ],
   "source": [
    "a * b # Element wise array/vector multiplication."
   ]
  },
  {
   "cell_type": "markdown",
   "metadata": {
    "id": "VDVd7xSiHvHz"
   },
   "source": [
    "### <font style=\"color:rgb(50,120,230)\">Array Division</font>"
   ]
  },
  {
   "cell_type": "code",
   "execution_count": 10,
   "metadata": {
    "ExecuteTime": {
     "end_time": "2022-07-17T15:49:21.955027Z",
     "start_time": "2022-07-17T15:49:21.946182Z"
    },
    "id": "VI5scJuLHvHz",
    "outputId": "3efe5887-17be-4157-fe8d-094d07f405aa"
   },
   "outputs": [
    {
     "data": {
      "text/plain": [
       "array([[0.27583536, 2.63429714, 3.23347753, 0.03901867],\n",
       "       [3.37353202, 0.32354434, 0.61120455, 0.30843973],\n",
       "       [0.38445959, 0.80855384, 1.01702428, 9.21373216],\n",
       "       [0.83102827, 0.74398879, 1.39730308, 2.54969014]])"
      ]
     },
     "execution_count": 10,
     "metadata": {},
     "output_type": "execute_result"
    }
   ],
   "source": [
    "a / b # element wise array/vector division"
   ]
  },
  {
   "cell_type": "markdown",
   "metadata": {
    "id": "dWNN2R1mHvHz"
   },
   "source": [
    "Notice that the dimension of both arrays are equal in the above array element-wise operations. **What if the dimensions are not equal.** Let's check!"
   ]
  },
  {
   "cell_type": "code",
   "execution_count": 11,
   "metadata": {
    "ExecuteTime": {
     "end_time": "2022-07-17T15:49:24.956321Z",
     "start_time": "2022-07-17T15:49:24.943163Z"
    },
    "id": "6lpnhqYEHvHz",
    "outputId": "94b62329-b24a-4b86-e4e0-33abc92b4e75"
   },
   "outputs": [
    {
     "name": "stdout",
     "output_type": "stream",
     "text": [
      "Array \"a\":\n",
      "Array:\n",
      "[[0.09629177 0.55450109 0.64392185 0.02829702]\n",
      " [0.48779066 0.23031475 0.3603628  0.23025478]\n",
      " [0.2945682  0.38882777 0.64578038 0.88811079]\n",
      " [0.56477474 0.36669258 0.68991165 0.62268748]]\n",
      "Data type:\tfloat64\n",
      "Array shape:\t(4, 4)\n",
      "Array Dim:\t2\n",
      "\n",
      "Array \"c\":\n",
      "Array:\n",
      "[[0.80631633 0.52453573 0.4349058  0.32539568]\n",
      " [0.75653753 0.87034519 0.8745171  0.23847626]]\n",
      "Data type:\tfloat64\n",
      "Array shape:\t(2, 4)\n",
      "Array Dim:\t2\n",
      "\n"
     ]
    },
    {
     "name": "stderr",
     "output_type": "stream",
     "text": [
      "Traceback (most recent call last):\n",
      "  File \"/var/folders/l6/lv6v6fx914q9jn_l4f9r7nxw0000gn/T/ipykernel_11282/3053537578.py\", line 10, in <module>\n",
      "    a + c\n",
      "ValueError: operands could not be broadcast together with shapes (4,4) (2,4) \n"
     ]
    }
   ],
   "source": [
    "print('Array \"a\":')\n",
    "array_info(a)\n",
    "print('Array \"c\":')\n",
    "c = np.random.rand(2, 4)\n",
    "array_info(c)\n",
    "\n",
    "# Should throw ValueError.\n",
    "import traceback\n",
    "try:\n",
    "    a + c\n",
    "except Exception:\n",
    "    traceback.print_exc()"
   ]
  },
  {
   "cell_type": "markdown",
   "metadata": {
    "id": "TJJByIVLHvHz"
   },
   "source": [
    "<font color='red'>**Oh, got the ValueError!!**</font>\n",
    "\n",
    "What is this error?\n",
    "\n",
    "<font color='red'>ValueError</font>: operands could not be broadcast together with shapes `(4,4)` `(2,2)` "
   ]
  },
  {
   "cell_type": "markdown",
   "metadata": {
    "id": "-Tfs85kWHvH0"
   },
   "source": [
    "### 1.3 Broadcasting\n",
    "\n",
    "There is a concept of broadcasting in NumPy, which tries to copy rows or columns in the lower-dimensional array to make an equal dimensional array of higher-dimensional array. \n",
    "\n",
    "<hr style=\"border:none; height: 4px; background-color:#D3D3D3\" />\n",
    "\n",
    "Documentation: <a href=\"https://numpy.org/doc/stable/user/basics.broadcasting.html\" target=_blank>broadcasting</a>\n",
    "\n",
    "When operating on two arrays, NumPy compares their shapes element-wise. It starts with the trailing (i.e., rightmost) dimensions and works its way left. Two dimensions are compatible when:\n",
    "\n",
    " - They are equal, or\n",
    " - One of them is 1\n",
    " \n",
    "The examples below show how `B` is successfully broadcasted to `A` according to the rules above.\n",
    " \n",
    "``` python\n",
    "A      (2d array):  5 x 4\n",
    "B      (1d array):      1\n",
    "Result (2d array):  5 x 4\n",
    "\n",
    "A      (2d array):  5 x 4\n",
    "B      (1d array):      4\n",
    "Result (2d array):  5 x 4\n",
    "\n",
    "A      (3d array):  15 x 3 x 5\n",
    "B      (3d array):  15 x 1 x 5\n",
    "Result (3d array):  15 x 3 x 5\n",
    "\n",
    "A      (3d array):  15 x 3 x 5\n",
    "B      (2d array):       3 x 5\n",
    "Result (3d array):  15 x 3 x 5\n",
    "\n",
    "A      (3d array):  15 x 3 x 5\n",
    "B      (2d array):       3 x 1\n",
    "Result (3d array):  15 x 3 x 5\n",
    "```\n",
    "\n",
    "<hr style=\"border:none; height: 4px; background-color:#D3D3D3\" />"
   ]
  },
  {
   "cell_type": "code",
   "execution_count": null,
   "metadata": {
    "id": "BO7iCn7WHvH0",
    "outputId": "2b60c5d8-1ac8-45e0-9559-26b307ae5711"
   },
   "outputs": [
    {
     "name": "stdout",
     "output_type": "stream",
     "text": [
      "Array \"a\":\n",
      "Array:\n",
      "[[1 2 3]\n",
      " [4 5 6]\n",
      " [7 8 9]]\n",
      "Data type:\tint64\n",
      "Array shape:\t(3, 3)\n",
      "Array Dim:\t2\n",
      "\n",
      "Array \"b\":\n",
      "Array:\n",
      "[0 1 0]\n",
      "Data type:\tint64\n",
      "Array shape:\t(3,)\n",
      "Array Dim:\t1\n",
      "\n",
      "Array \"a+b\":\n",
      "Array:\n",
      "[[1 3 3]\n",
      " [4 6 6]\n",
      " [7 9 9]]\n",
      "Data type:\tint64\n",
      "Array shape:\t(3, 3)\n",
      "Array Dim:\t2\n",
      "\n"
     ]
    }
   ],
   "source": [
    "a = np.array([[1, 2, 3], [4, 5, 6],[7, 8, 9]])\n",
    "b = np.array([0, 1, 0])\n",
    "\n",
    "print('Array \"a\":')\n",
    "array_info(a)\n",
    "print('Array \"b\":')\n",
    "array_info(b)\n",
    "\n",
    "print('Array \"a+b\":')\n",
    "array_info(a + b)  # b is reshaped such that it can be added to a.\n",
    "\n",
    "# b = [0,1,0] is broadcasted to     [[0, 1, 0],\n",
    "#                                    [0, 1, 0],\n",
    "#                                    [0, 1, 0]]  and added to a."
   ]
  },
  {
   "cell_type": "markdown",
   "metadata": {
    "id": "QpgY47AtHvH0"
   },
   "source": [
    "## 2 Linear Algebra\n",
    "\n",
    "In this section, we will take a look at the most commonly used linear algebra operations used in machine learning."
   ]
  },
  {
   "cell_type": "markdown",
   "metadata": {
    "id": "0QzeoEJjHvH0"
   },
   "source": [
    "## 2.1 Transpose\n",
    "\n",
    "<hr style=\"border:none; height: 4px; background-color:#D3D3D3\" />\n",
    "\n",
    "Either syntax below can be used:\n",
    "\n",
    "``` python\n",
    "result = np.transpose(a, axes=None)\n",
    "\n",
    "result = a.transpose(*axes)\n",
    "\n",
    "result = a.T\n",
    "```\n",
    "\n",
    "Returns a view of the NumPy array `a` with axes transposed.\n",
    "\n",
    "Documentation: <a href=\"https://numpy.org/doc/stable/reference/generated/numpy.transpose.html\" target=_blank>np.transpose</a>\n",
    "\n",
    "<hr style=\"border:none; height: 4px; background-color:#D3D3D3\" />\n"
   ]
  },
  {
   "cell_type": "code",
   "execution_count": null,
   "metadata": {
    "id": "r5go-3TdHvH0",
    "outputId": "22fbd2b4-4978-404f-c1e8-eb858c0cabc9"
   },
   "outputs": [
    {
     "name": "stdout",
     "output_type": "stream",
     "text": [
      "Array \"a\":\n",
      "Array:\n",
      "[[0.89042525 0.00185178 0.63485571]\n",
      " [0.45828996 0.39700786 0.74523715]]\n",
      "Data type:\tfloat64\n",
      "Array shape:\t(2, 3)\n",
      "Array Dim:\t2\n",
      "\n",
      "Transose of \"a\":\n",
      "Array:\n",
      "[[0.89042525 0.45828996]\n",
      " [0.00185178 0.39700786]\n",
      " [0.63485571 0.74523715]]\n",
      "Data type:\tfloat64\n",
      "Array shape:\t(3, 2)\n",
      "Array Dim:\t2\n",
      "\n"
     ]
    }
   ],
   "source": [
    "a = np.random.random((2,3))\n",
    "print('Array \"a\":')\n",
    "array_info(a)\n",
    "\n",
    "print('Transose of \"a\":')\n",
    "a_transpose = a.transpose()  # Or a.T\n",
    "array_info(a_transpose)"
   ]
  },
  {
   "cell_type": "markdown",
   "metadata": {
    "id": "qsKNn9Y6HvH1"
   },
   "source": [
    "### 2.2 Matrix Multiplication\n",
    "We will discuss two ways of performing matrix multiplication.\n",
    "\n",
    "- `np.matmul`\n",
    "- Python `@` operator\n",
    "\n",
    "### <font style=\"color:rgb(50,120,230)\">Using: `matmul`</font>\n",
    "\n",
    "<hr style=\"border:none; height: 4px; background-color:#D3D3D3\" />\n",
    "\n",
    "Using `matmul` is the most common approach for multiplying two matrices using Numpy. Multiplying two matrices requires that the number of columns of the first matrix, `M`, equals the number of rows in the second matrix, `N`, as shown below.\n",
    "\n",
    "``` python\n",
    "   M        N      \n",
    "[p, q] x [q, r] = [p , r]\n",
    "```\n",
    "Documentation: <a href=\"https://docs.scipy.org/doc/numpy/reference/generated/numpy.matmul.html\" target=_blank>np.matmul</a>\n",
    "\n",
    "<hr style=\"border:none; height: 4px; background-color:#D3D3D3\" />"
   ]
  },
  {
   "cell_type": "code",
   "execution_count": null,
   "metadata": {
    "id": "k7MrCHnDHvH1",
    "outputId": "f925c099-3d12-4b4b-dd4b-cde5e2f799ca"
   },
   "outputs": [
    {
     "name": "stdout",
     "output_type": "stream",
     "text": [
      "Array \"a\":\n",
      "Array:\n",
      "[[0.6558135  0.44199714 0.2873197  0.92405359]\n",
      " [0.3087299  0.18971711 0.75472795 0.29666377]\n",
      " [0.42034068 0.77374161 0.35020636 0.32808625]]\n",
      "Data type:\tfloat64\n",
      "Array shape:\t(3, 4)\n",
      "Array Dim:\t2\n",
      "\n",
      "Array \"b\"\n",
      "Array:\n",
      "[[0.7266519  0.41308904]\n",
      " [0.26073966 0.53704643]\n",
      " [0.76897388 0.10513026]\n",
      " [0.55644044 0.62232665]]\n",
      "Data type:\tfloat64\n",
      "Array shape:\t(4, 2)\n",
      "Array Dim:\t2\n",
      "\n",
      "matrix multiplication of a and b:\n",
      "Array:\n",
      "[[1.32691644 1.11355153]\n",
      " [1.01924774 0.49338635]\n",
      " [0.95904648 0.8301674 ]]\n",
      "Data type:\tfloat64\n",
      "Array shape:\t(3, 2)\n",
      "Array Dim:\t2\n",
      "\n",
      "(3, 4) x (4, 2) --> (3, 2)\n"
     ]
    }
   ],
   "source": [
    "a = np.random.random((3, 4))\n",
    "b = np.random.random((4, 2))\n",
    "\n",
    "print('Array \"a\":')\n",
    "array_info(a)\n",
    "print('Array \"b\"')\n",
    "array_info(b)\n",
    "\n",
    "# Matrix multiplication of a and b.\n",
    "c = np.matmul(a,b) \n",
    "\n",
    "print('matrix multiplication of a and b:')\n",
    "array_info(c)\n",
    "\n",
    "print('{} x {} --> {}'.format(a.shape, b.shape, c.shape)) # dim-1 of a and dim-0 of b has to be \n",
    "                                                          # same for matrix multiplication"
   ]
  },
  {
   "cell_type": "markdown",
   "metadata": {
    "id": "bWkSiPrhHvH1"
   },
   "source": [
    "### <font style=\"color:rgb(50,120,230)\">Using: `@` operator</font>\n",
    "\n",
    "This method of multiplication was introduced in Python 3.5. <a href=\"https://www.python.org/dev/peps/pep-0465/\" target=_blank>See docs</a>."
   ]
  },
  {
   "cell_type": "code",
   "execution_count": null,
   "metadata": {
    "id": "dEgb2I7hHvH1",
    "outputId": "4ed42015-27fe-416a-e3c8-72295c114bd9"
   },
   "outputs": [
    {
     "name": "stdout",
     "output_type": "stream",
     "text": [
      "Array \"a\":\n",
      "Array:\n",
      "[[0.91184197 0.99647478 0.71448849 0.97777114]\n",
      " [0.30830991 0.53614134 0.82528076 0.89638653]\n",
      " [0.57088338 0.53093183 0.48706807 0.81887126]]\n",
      "Data type:\tfloat64\n",
      "Array shape:\t(3, 4)\n",
      "Array Dim:\t2\n",
      "\n",
      "Array \"b\"\n",
      "Array:\n",
      "[[0.36932614 0.77824974]\n",
      " [0.52367608 0.28492496]\n",
      " [0.80329695 0.50109414]\n",
      " [0.85338901 0.58182426]]\n",
      "Data type:\tfloat64\n",
      "Array shape:\t(4, 2)\n",
      "Array Dim:\t2\n",
      "\n",
      "Array:\n",
      "[[2.26696265 1.92047829]\n",
      " [1.82254324 1.32778495]\n",
      " [1.57895448 1.3160717 ]]\n",
      "Data type:\tfloat64\n",
      "Array shape:\t(3, 2)\n",
      "Array Dim:\t2\n",
      "\n"
     ]
    }
   ],
   "source": [
    "a = np.random.random((3, 4))\n",
    "b = np.random.random((4, 2))\n",
    "\n",
    "print('Array \"a\":')\n",
    "array_info(a)\n",
    "print('Array \"b\"')\n",
    "array_info(b)\n",
    "\n",
    "# Matrix multiplication of a and b.\n",
    "c = a@b \n",
    "array_info(c)"
   ]
  },
  {
   "cell_type": "markdown",
   "metadata": {
    "id": "iIWu52Pn35S0"
   },
   "source": [
    "### 2.3 Matrix Inverse\n",
    "\n",
    "<hr style=\"border:none; height: 4px; background-color:#D3D3D3\" />\n",
    "\n",
    "``` python\n",
    "np.linalg.inv(a)\n",
    "```\n",
    "\n",
    "For a square matrix, `a`, compute the (multiplicative) inverse of a matrix.\n",
    "\n",
    "Documentation: <a href=\"https://numpy.org/doc/stable/reference/generated/numpy.linalg.inv.html?highlight=matrix%20inverse\" target=_blank>np.linalg.inv</a>\n",
    "\n",
    "<hr style=\"border:none; height: 4px; background-color:#D3D3D3\" />\n"
   ]
  },
  {
   "cell_type": "code",
   "execution_count": null,
   "metadata": {
    "id": "NZaXtR-uHvH2",
    "outputId": "0af84798-7827-4d11-c4b6-ca92d76ff142"
   },
   "outputs": [
    {
     "name": "stdout",
     "output_type": "stream",
     "text": [
      "Array \"A\":\n",
      "Array:\n",
      "[[0.91980067 0.88840414 0.30798564]\n",
      " [0.44189709 0.15825762 0.36623873]\n",
      " [0.11574711 0.57521542 0.48989421]]\n",
      "Data type:\tfloat64\n",
      "Array shape:\t(3, 3)\n",
      "Array Dim:\t2\n",
      "\n",
      "Inverse of \"A\" (\"A_inverse\"):\n",
      "Array:\n",
      "[[ 0.65110184  1.26206564 -1.35283764]\n",
      " [ 0.85139173 -2.02933564  0.98185457]\n",
      " [-1.15350783  2.0845821   1.20803459]]\n",
      "Data type:\tfloat64\n",
      "Array shape:\t(3, 3)\n",
      "Array Dim:\t2\n",
      "\n",
      "\"A x A_inverse = Identity\" should be true:\n",
      "Array:\n",
      "[[ 1.00000000e+00  8.50868268e-17 -1.31287266e-16]\n",
      " [-9.46459746e-17  1.00000000e+00 -9.00679422e-17]\n",
      " [-1.27856568e-17 -2.72579233e-17  1.00000000e+00]]\n",
      "Data type:\tfloat64\n",
      "Array shape:\t(3, 3)\n",
      "Array Dim:\t2\n",
      "\n"
     ]
    }
   ],
   "source": [
    "A = np.random.random((3,3))\n",
    "print('Array \"A\":')\n",
    "array_info(A)\n",
    "\n",
    "A_inverse = np.linalg.inv(A)\n",
    "print('Inverse of \"A\" (\"A_inverse\"):')\n",
    "array_info(A_inverse)\n",
    "\n",
    "print('\"A x A_inverse = Identity\" should be true:')\n",
    "A_X_A_inverse = np.matmul(A, A_inverse)  # A x A_inverse = I = Identity matrix\n",
    "array_info(A_X_A_inverse)"
   ]
  },
  {
   "cell_type": "markdown",
   "metadata": {
    "id": "dZ8RyI11HvH2"
   },
   "source": [
    "### 2.4 Dot Product\n",
    "\n",
    "The dot product between two euqal length vectors is a scalar defined by the sum of the element-wise product of the two vectors.\n",
    "\n",
    "<hr style=\"border:none; height: 4px; background-color:#D3D3D3\" />\n",
    "\n",
    "``` python\n",
    "np.dot(a, b, out=None)\n",
    "```\n",
    "\n",
    "\n",
    "Documentation: <a href=\"https://numpy.org/doc/stable/reference/generated/numpy.dot.html?highlight=dot%20product\" target=_blank>np.dot</a>\n",
    "\n",
    "<hr style=\"border:none; height: 4px; background-color:#D3D3D3\" />\n"
   ]
  },
  {
   "cell_type": "code",
   "execution_count": null,
   "metadata": {
    "id": "b1iIv5FaHvH2",
    "outputId": "20e677d1-5e38-4554-d910-7abc564ffe17"
   },
   "outputs": [
    {
     "name": "stdout",
     "output_type": "stream",
     "text": [
      "Array:\n",
      "[1 2 3 4]\n",
      "Data type:\tint64\n",
      "Array shape:\t(4,)\n",
      "Array Dim:\t1\n",
      "\n",
      "Array:\n",
      "[5 6 7 8]\n",
      "Data type:\tint64\n",
      "Array shape:\t(4,)\n",
      "Array Dim:\t1\n",
      "\n",
      "Array:\n",
      "70\n",
      "Data type:\tint64\n",
      "Array shape:\t()\n",
      "Array Dim:\t0\n",
      "\n"
     ]
    }
   ],
   "source": [
    "a = np.array([1, 2, 3, 4])\n",
    "b = np.array([5, 6, 7, 8])\n",
    "\n",
    "array_info(a)\n",
    "array_info(b)\n",
    "\n",
    "dot_prod = np.dot(a, b) \n",
    "array_info(dot_prod)"
   ]
  },
  {
   "cell_type": "markdown",
   "metadata": {
    "id": "8cjIE8hGHvH3"
   },
   "source": [
    "## 3 Array Statistics"
   ]
  },
  {
   "cell_type": "markdown",
   "metadata": {
    "id": "-HOjs-cVHvH3"
   },
   "source": [
    "### 3.1 Sum"
   ]
  },
  {
   "cell_type": "code",
   "execution_count": null,
   "metadata": {
    "id": "Qdzq9ul7HvH3",
    "outputId": "9ba2955f-192e-4fd3-ce3a-83b08f1e120e"
   },
   "outputs": [
    {
     "name": "stdout",
     "output_type": "stream",
     "text": [
      "15\n"
     ]
    }
   ],
   "source": [
    "a = np.array([1, 2, 3, 4, 5])\n",
    "\n",
    "print(a.sum())"
   ]
  },
  {
   "cell_type": "markdown",
   "metadata": {
    "id": "6now4zePHvH3"
   },
   "source": [
    "### 3.2 Sum Along Axis"
   ]
  },
  {
   "cell_type": "code",
   "execution_count": null,
   "metadata": {
    "id": "ul2TJrxRHvH3",
    "outputId": "c471b67e-4996-4242-d1c0-0198969b8ee7"
   },
   "outputs": [
    {
     "name": "stdout",
     "output_type": "stream",
     "text": [
      "Array:\n",
      "[[1 2 3]\n",
      " [4 5 6]]\n",
      "Data type:\tint64\n",
      "Array shape:\t(2, 3)\n",
      "Array Dim:\t2\n",
      "\n",
      "\n",
      "sum along axis=0:  [5 7 9]\n",
      "\n",
      "sum along axis=1:  [ 6 15]\n"
     ]
    }
   ],
   "source": [
    "a = np.array([[1, 2, 3], [4, 5, 6]])\n",
    "array_info(a)\n",
    "print('')\n",
    "\n",
    "print('sum along axis=0: ',a.sum(axis = 0)) # Sum along axis=0 ie: 1+4, 2+5, 3+6\n",
    "print(\"\")\n",
    "print('sum along axis=1: ',a.sum(axis = 1)) # Sum along axis=1 ie: 1+2+3, 4+5+6"
   ]
  },
  {
   "cell_type": "markdown",
   "metadata": {
    "id": "hOCEcGgpHvH4"
   },
   "source": [
    "### 3.3 Minimum and Maximum"
   ]
  },
  {
   "cell_type": "code",
   "execution_count": null,
   "metadata": {
    "id": "0hqHKLRdHvH4",
    "outputId": "346b971c-36c2-431f-fc44-2e81fd99541f"
   },
   "outputs": [
    {
     "name": "stdout",
     "output_type": "stream",
     "text": [
      "Minimum =  -1.1\n",
      "Maximum =  100.0\n"
     ]
    }
   ],
   "source": [
    "a = np.array([-1.1, 2, 5, 100])\n",
    "\n",
    "print('Minimum = ', a.min())\n",
    "print('Maximum = ', a.max())"
   ]
  },
  {
   "cell_type": "markdown",
   "metadata": {
    "id": "gfg1O0-5HvH4"
   },
   "source": [
    "### 3.4 Min and Max along Axis"
   ]
  },
  {
   "cell_type": "code",
   "execution_count": null,
   "metadata": {
    "id": "HTINIBoCHvH4",
    "outputId": "17d210c3-ffe5-45f4-dfaf-e58e112f4cde"
   },
   "outputs": [
    {
     "name": "stdout",
     "output_type": "stream",
     "text": [
      "Array:\n",
      "[[-2  0  4]\n",
      " [ 1  2  3]]\n",
      "Data type:\tint64\n",
      "Array shape:\t(2, 3)\n",
      "Array Dim:\t2\n",
      "\n",
      "a =\n",
      " [[-2  0  4]\n",
      " [ 1  2  3]] \n",
      "\n",
      "Minimum =  -2\n",
      "Maximum =  4\n",
      "\n",
      "Minimum along axis 0 =  [-2  0  3]\n",
      "Maximum along axis 0 =  [1 2 4]\n",
      "\n",
      "Minimum along axis 1 =  [-2  1]\n",
      "Maximum along axis 1 =  [4 3]\n"
     ]
    }
   ],
   "source": [
    "a = np.array([[-2, 0, 4], [1, 2, 3]])\n",
    "\n",
    "array_info(a)\n",
    "\n",
    "print('a =\\n',a,'\\n')\n",
    "print('Minimum = ', a.min())\n",
    "print('Maximum = ', a.max())\n",
    "print()\n",
    "print('Minimum along axis 0 = ', a.min(0))\n",
    "print('Maximum along axis 0 = ', a.max(0))\n",
    "print()\n",
    "print('Minimum along axis 1 = ', a.min(1))\n",
    "print('Maximum along axis 1 = ', a.max(1))"
   ]
  },
  {
   "cell_type": "markdown",
   "metadata": {
    "id": "duzWUeVcHvH5"
   },
   "source": [
    "### 3.5 Mean and Standard Deviation"
   ]
  },
  {
   "cell_type": "code",
   "execution_count": null,
   "metadata": {
    "id": "SMBfODD6HvH5",
    "outputId": "ec39b9de-1aa6-4d8b-b5b8-0352848d7261"
   },
   "outputs": [
    {
     "name": "stdout",
     "output_type": "stream",
     "text": [
      "Mean of the array               = 3.133333\n",
      "Standard deviation of the array = 1.684900\n"
     ]
    }
   ],
   "source": [
    "# Create some data.\n",
    "data = np.array([1.2, 2.3, 5.0, 3.3, 1.4, 5.6])\n",
    "\n",
    "print('Mean of the array               = {:8.6f}'.format(data.mean()))\n",
    "print('Standard deviation of the array = {:8.6f}'.format(data.std()))"
   ]
  },
  {
   "cell_type": "markdown",
   "metadata": {
    "id": "N0ymt6ICHvH5"
   },
   "source": [
    "### 3.6 Standardizing an Array\n",
    "\n",
    "Normalize the data array to have `mean=0` and `std=1`."
   ]
  },
  {
   "cell_type": "code",
   "execution_count": null,
   "metadata": {
    "id": "n3x7_N59HvH5",
    "outputId": "230e6257-75cc-479e-8129-573554a83dd0"
   },
   "outputs": [
    {
     "name": "stdout",
     "output_type": "stream",
     "text": [
      "Array              =  [1.2 2.3 5.  3.3 1.4 5.6]\n",
      "Mean               = 3.133333\n",
      "Standard deviation = 1.684900\n",
      "\n",
      "Standardized Array =  [-1.14744675 -0.49458912  1.10787962  0.09891782 -1.02874536  1.46398379]\n",
      "Mean               = -0.000000\n",
      "Standard deviation = 1.000000\n"
     ]
    }
   ],
   "source": [
    "print('Array              = ', data)\n",
    "print('Mean               = {:8.6f}'.format(data.mean()))\n",
    "print('Standard deviation = {:8.6f}'.format(data.std()))\n",
    "print()\n",
    "\n",
    "standardized_array = (data - data.mean())/data.std()\n",
    "\n",
    "print('Standardized Array = ', standardized_array)\n",
    "print('Mean               = {:8.6f}'.format(standardized_array.mean()))  \n",
    "print('Standard deviation = {:8.6f}'.format(standardized_array.std()))   "
   ]
  },
  {
   "cell_type": "code",
   "execution_count": null,
   "metadata": {
    "id": "LN9ohY1uHvH6"
   },
   "outputs": [],
   "source": []
  }
 ],
 "metadata": {
  "colab": {
   "name": "week_01_09_Numpy_Refresher_Part_3.ipynb",
   "provenance": []
  },
  "jupytext": {
   "encoding": "# -*- coding: utf-8 -*-",
   "formats": "ipynb,py:light"
  },
  "kernelspec": {
   "display_name": "Python 3 (ipykernel)",
   "language": "python",
   "name": "python3"
  },
  "language_info": {
   "codemirror_mode": {
    "name": "ipython",
    "version": 3
   },
   "file_extension": ".py",
   "mimetype": "text/x-python",
   "name": "python",
   "nbconvert_exporter": "python",
   "pygments_lexer": "ipython3",
   "version": "3.9.12"
  },
  "latex_envs": {
   "LaTeX_envs_menu_present": true,
   "autoclose": false,
   "autocomplete": true,
   "bibliofile": "biblio.bib",
   "cite_by": "apalike",
   "current_citInitial": 1,
   "eqLabelWithNumbers": true,
   "eqNumInitial": 1,
   "hotkeys": {
    "equation": "Ctrl-E",
    "itemize": "Ctrl-I"
   },
   "labels_anchors": false,
   "latex_user_defs": false,
   "report_style_numbering": false,
   "user_envs_cfg": false
  },
  "toc": {
   "base_numbering": 1,
   "nav_menu": {},
   "number_sections": true,
   "sideBar": true,
   "skip_h1_title": false,
   "title_cell": "Table of Contents",
   "title_sidebar": "Contents",
   "toc_cell": false,
   "toc_position": {},
   "toc_section_display": true,
   "toc_window_display": false
  },
  "varInspector": {
   "cols": {
    "lenName": 16,
    "lenType": 16,
    "lenVar": 40
   },
   "kernels_config": {
    "python": {
     "delete_cmd_postfix": "",
     "delete_cmd_prefix": "del ",
     "library": "var_list.py",
     "varRefreshCmd": "print(var_dic_list())"
    },
    "r": {
     "delete_cmd_postfix": ") ",
     "delete_cmd_prefix": "rm(",
     "library": "var_list.r",
     "varRefreshCmd": "cat(var_dic_list()) "
    }
   },
   "types_to_exclude": [
    "module",
    "function",
    "builtin_function_or_method",
    "instance",
    "_Feature"
   ],
   "window_display": false
  }
 },
 "nbformat": 4,
 "nbformat_minor": 1
}
